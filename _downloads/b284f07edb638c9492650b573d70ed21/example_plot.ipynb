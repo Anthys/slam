{
  "cells": [
    {
      "cell_type": "code",
      "execution_count": null,
      "metadata": {
        "collapsed": false
      },
      "outputs": [],
      "source": [
        "%matplotlib inline"
      ]
    },
    {
      "cell_type": "markdown",
      "metadata": {},
      "source": [
        "\n\n# Show basic plot in slam\n\n\n"
      ]
    },
    {
      "cell_type": "code",
      "execution_count": null,
      "metadata": {
        "collapsed": false
      },
      "outputs": [],
      "source": [
        "# Authors: Guillaume Auzias <guillaume.auzias@univ-amu.fr>\n\n# License: BSD (3-clause)\n# sphinx_gallery_thumbnail_number = 2"
      ]
    },
    {
      "cell_type": "markdown",
      "metadata": {},
      "source": [
        "This script shows examples of visualization in SLAM.\nThe visu is based on visbrain: https://github.com/EtienneCmb/visbrain\n\n"
      ]
    },
    {
      "cell_type": "code",
      "execution_count": null,
      "metadata": {
        "collapsed": false
      },
      "outputs": [],
      "source": [
        "import slam.plot as splt\nimport slam.io as sio\nimport numpy as np\n\n# loading an examplar mesh and corresponding texture\nmesh_file = '../examples/data/example_mesh.gii'\ntexture_file = '../examples/data/example_texture.gii'\nmesh = sio.load_mesh(mesh_file)\ntex = sio.load_texture(texture_file)"
      ]
    },
    {
      "cell_type": "markdown",
      "metadata": {},
      "source": [
        "here is the range of values in the texture:\n\n"
      ]
    },
    {
      "cell_type": "code",
      "execution_count": null,
      "metadata": {
        "collapsed": false
      },
      "outputs": [],
      "source": [
        "print('[{a:2.3f}, {b:2.3f}]'.format(a=tex.min(), b=tex.max()))"
      ]
    },
    {
      "cell_type": "markdown",
      "metadata": {},
      "source": [
        "make the figure\n\n"
      ]
    },
    {
      "cell_type": "code",
      "execution_count": null,
      "metadata": {
        "collapsed": false
      },
      "outputs": [],
      "source": [
        "visb_sc = splt.visbrain_plot(mesh=mesh, caption='simple mesh')\nvisb_sc = splt.visbrain_plot(mesh=mesh, tex=tex.darray[0],\n                             caption='with curvature',\n                             cblabel='curvature', visb_sc=visb_sc)\nvisb_sc = splt.visbrain_plot(mesh=mesh, tex=tex.darray[0],\n                             caption='change cmap', cblabel='curvature',\n                             cmap='hot', visb_sc=visb_sc)\nvisb_sc.preview()\n# then save the 3D rendering figure\n# visb_sc.screenshot('test.png')\n# # most simple mesh visualization\n# splt.pyglet_plot(mesh)\n# # with a texture\n# splt.pyglet_plot(mesh, tex.darray[0], plot_colormap=True)\n# # change in colormap\n# splt.pyglet_plot(mesh, tex.darray[0], color_map=plt.get_cmap('hot', 6),\n#                  plot_colormap=True)\n# # to save to disc as png, we need to get the output of the plot function\n# plot_output = splt.pyglet_plot(mesh, tex.darray[0],\n#                                color_map=plt.get_cmap('hot'),\n#                                plot_colormap=True)\n# # then save the 3D rendering figure\n# # splt.save_image(plot_output[0], png_fig_filename)\n# # and eventually the colobar\n# # plot_output[1].savefig(colormap_png_filename)\n#\n# # trimesh rendering possibilities\n# \"\"\" set each facet to a random color\n# colors are 8 bit RGBA by default (n,4) np.uint8\n# for facet in mesh.facets:\n#     mesh.visual.face_colors[facet] = trimesh.visual.random_color()\n# \"\"\"\n# for vert_ind in range(len(mesh.visual.vertex_colors)):\n#     mesh.visual.vertex_colors[vert_ind] = trimesh.visual.random_color()\n#\n# # default visualization from trimesh\n# mesh.show()"
      ]
    }
  ],
  "metadata": {
    "kernelspec": {
      "display_name": "Python 3",
      "language": "python",
      "name": "python3"
    },
    "language_info": {
      "codemirror_mode": {
        "name": "ipython",
        "version": 3
      },
      "file_extension": ".py",
      "mimetype": "text/x-python",
      "name": "python",
      "nbconvert_exporter": "python",
      "pygments_lexer": "ipython3",
      "version": "3.6.6"
    }
  },
  "nbformat": 4,
  "nbformat_minor": 0
}