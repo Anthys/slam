{
  "cells": [
    {
      "cell_type": "code",
      "execution_count": null,
      "metadata": {
        "collapsed": false
      },
      "outputs": [],
      "source": [
        "%matplotlib inline"
      ]
    },
    {
      "cell_type": "markdown",
      "metadata": {},
      "source": [
        "\n\n# Show basic use of slam\n\n\n"
      ]
    },
    {
      "cell_type": "code",
      "execution_count": null,
      "metadata": {
        "collapsed": false
      },
      "outputs": [],
      "source": [
        "# Authors: Guillaume Auzias <guillaume.auzias@univ-amu.fr>\n\n# License: BSD (3-clause)\n# sphinx_gallery_thumbnail_number = 2"
      ]
    },
    {
      "cell_type": "markdown",
      "metadata": {},
      "source": [
        "This script shows examples of basic functionalities offered by SLAM.\nSome (most) of these are actually inherited from Trimesh\nThis script does not plot anything, see example_plot.py for that purpose\n\n\n"
      ]
    },
    {
      "cell_type": "code",
      "execution_count": null,
      "metadata": {
        "collapsed": false
      },
      "outputs": [],
      "source": [
        "import numpy as np\nimport slam.io as sio\nmesh_file = 'data/example_mesh.gii'\n# loading a mesh stored on the disc as a gifti file,\n# this is a feature of SLAM\n# mesh = sio.load_mesh(mesh_file)"
      ]
    },
    {
      "cell_type": "markdown",
      "metadata": {},
      "source": [
        "# affine transformations can be applied to mesh objects\nmesh.apply_transform(mesh.principal_inertia_transform)\n# laplacian smoothing is available in Trimesh\n# mesh_s = sm.filter_laplacian(mesh, iterations=20)\n\n"
      ]
    },
    {
      "cell_type": "markdown",
      "metadata": {},
      "source": [
        "mesh.fill_holes() is able to fill missing face but do not handle\nlarger holes, see example_topology for that purpose\n\n"
      ]
    },
    {
      "cell_type": "markdown",
      "metadata": {},
      "source": [
        "interesting properties / functions of a mesh\nsee base.py for more details\nwhat's the euler number for the mesh?\nprint('mesh.euler_number=', mesh.euler_number)\n\n"
      ]
    },
    {
      "cell_type": "markdown",
      "metadata": {},
      "source": [
        "access mesh edges\nmesh.edges\n\n"
      ]
    },
    {
      "cell_type": "markdown",
      "metadata": {},
      "source": [
        "access mesh faces\nmesh.faces\n\n"
      ]
    },
    {
      "cell_type": "markdown",
      "metadata": {},
      "source": [
        "access mesh vertice\nmesh.vertices\n# access mesh edges\nmesh.edges\n\n"
      ]
    },
    {
      "cell_type": "markdown",
      "metadata": {},
      "source": [
        "what's the area of the mesh\n print('mesh.area=', mesh.area)\n\n###############################################################################\n compute the area of each face\n mesh.area_faces\n\n"
      ]
    },
    {
      "cell_type": "markdown",
      "metadata": {},
      "source": [
        "access mesh faces angles\nmesh.face_angles\n\n"
      ]
    },
    {
      "cell_type": "markdown",
      "metadata": {},
      "source": [
        "access mesh volume\nmesh.volume\n\n"
      ]
    },
    {
      "cell_type": "markdown",
      "metadata": {},
      "source": [
        "get the face_normal of the mesh\nmesh.face_normals\n\n"
      ]
    },
    {
      "cell_type": "markdown",
      "metadata": {},
      "source": [
        "get the vertex_normals of the mesh\nmesh.vertex_normals\n\n"
      ]
    },
    {
      "cell_type": "markdown",
      "metadata": {},
      "source": [
        "access mesh vertex connectivity\nmesh.vertex_neighbors\n\n"
      ]
    },
    {
      "cell_type": "markdown",
      "metadata": {},
      "source": [
        "compute mesh convex hull\nc_h_mesh = mesh.convex_hull\n\n"
      ]
    },
    {
      "cell_type": "markdown",
      "metadata": {},
      "source": [
        "kdtree of the vertices\nsee example_kdtree.py\n\n"
      ]
    },
    {
      "cell_type": "markdown",
      "metadata": {},
      "source": [
        "mesh refinement by subdivision of face\nmesh.subdivide()\n\n"
      ]
    },
    {
      "cell_type": "markdown",
      "metadata": {},
      "source": [
        "extract 100 mesh vertices picked at random\nmesh.sample(100)\n\n"
      ]
    },
    {
      "cell_type": "markdown",
      "metadata": {},
      "source": [
        "voxelize the mesh\nmesh.voxelized(2)\n\n"
      ]
    },
    {
      "cell_type": "markdown",
      "metadata": {},
      "source": [
        "boundary of the mesh or list of faces\nmesh.outline()\n\n"
      ]
    },
    {
      "cell_type": "markdown",
      "metadata": {},
      "source": [
        "the convex hull is another Trimesh object that is available as a property\nlets compare the volume of our mesh with the volume of its convex hull\nnp.divide(mesh.volume, mesh.convex_hull.volume)\n\n"
      ]
    },
    {
      "cell_type": "markdown",
      "metadata": {},
      "source": [
        "since the mesh is watertight, it means there is a\nvolumetric center of mass which we can set as the origin for our mesh\nmesh.vertices -= mesh.center_mass\n\n"
      ]
    },
    {
      "cell_type": "markdown",
      "metadata": {},
      "source": [
        "what's the moment of inertia for the mesh?\nmesh.moment_inertia\n\n"
      ]
    },
    {
      "cell_type": "markdown",
      "metadata": {},
      "source": [
        "if there are multiple bodies in the mesh we can split the mesh by\nconnected components of face adjacency\nsince this example mesh is a single watertight body we get a list of one\nmesh\nmesh.split()\n\n"
      ]
    },
    {
      "cell_type": "markdown",
      "metadata": {},
      "source": [
        "find groups of coplanar adjacent faces\nfacets, facets_area = mesh.facets(return_area=True)\n\n"
      ]
    },
    {
      "cell_type": "markdown",
      "metadata": {},
      "source": [
        "transform method can be passed a (4,4) matrix and will cleanly apply the\ntransform\nmesh.apply_transform(trimesh.transformations.random_rotation_matrix())\n\n"
      ]
    },
    {
      "cell_type": "markdown",
      "metadata": {},
      "source": [
        "axis aligned bounding box is available\nmesh.bounding_box.extents\n\n"
      ]
    },
    {
      "cell_type": "markdown",
      "metadata": {},
      "source": [
        "a minimum volume oriented bounding box also available\nprimitives are subclasses of Trimesh objects which automatically generate\nfaces and vertices from data stored in the 'primitive' attribute\nmesh.bounding_box_oriented.primitive.extents\nmesh.bounding_box_oriented.primitive.transform\n\n"
      ]
    },
    {
      "cell_type": "markdown",
      "metadata": {},
      "source": [
        "bounding spheres and bounding cylinders of meshes are also\navailable, and will be the minimum volume version of each\nexcept in certain degenerate cases, where they will be no worse\nthan a least squares fit version of the primitive.\nprint(mesh.bounding_box_oriented.volume,\n      mesh.bounding_cylinder.volume,\n      mesh.bounding_sphere.volume)\n\n"
      ]
    }
  ],
  "metadata": {
    "kernelspec": {
      "display_name": "Python 3",
      "language": "python",
      "name": "python3"
    },
    "language_info": {
      "codemirror_mode": {
        "name": "ipython",
        "version": 3
      },
      "file_extension": ".py",
      "mimetype": "text/x-python",
      "name": "python",
      "nbconvert_exporter": "python",
      "pygments_lexer": "ipython3",
      "version": "3.6.6"
    }
  },
  "nbformat": 4,
  "nbformat_minor": 0
}