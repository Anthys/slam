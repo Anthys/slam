{
  "nbformat_minor": 0, 
  "nbformat": 4, 
  "cells": [
    {
      "execution_count": null, 
      "cell_type": "code", 
      "source": [
        "%matplotlib inline"
      ], 
      "outputs": [], 
      "metadata": {
        "collapsed": false
      }
    }, 
    {
      "source": [
        "\n\n# Show basic use of slam\n\n\n"
      ], 
      "cell_type": "markdown", 
      "metadata": {}
    }, 
    {
      "execution_count": null, 
      "cell_type": "code", 
      "source": [
        "# Authors: Guillaume Auzias <guillaume.auzias@univ-amu.fr>\n\n# License: BSD (3-clause)\n# sphinx_gallery_thumbnail_number = 2\n\n# import numpy as np\n# import slam.io as sio\n#\n#\n#\n# '''\n# This scripts shows examples of basic functionalities offered by SLAM.\n# Some (most) of these are actually inherited from Trimesh\n# This script does not plot anything, see example_plot.py for that purpose\n# '''\n# mesh_file = 'data/example_mesh.gii'\n# # loading a mesh stored on the disc as a gifti file,\n# # this is a feature of SLAM\n# mesh = sio.load_mesh(mesh_file)\n#\n# # affine transformations can be applied to mesh objects\n# mesh.apply_transform(mesh.principal_inertia_transform)\n# # laplacian smoothing is available in Trimesh\n# # mesh_s = sm.filter_laplacian(mesh, iterations=20)\n#\n# # mesh.fill_holes() is able to fill missing face but do not handle\n# # larger holes\n#\n# # interesting properties / functions of a mesh\n# # see base.py for more details\n# # what's the euler number for the mesh?\n# print('mesh.euler_number=', mesh.euler_number)\n#\n# # access mesh edges\n# mesh.edges\n# # access mesh faces\n# mesh.faces\n# # access mesh vertice\n# mesh.vertices\n# # access mesh edges\n# mesh.edges\n#\n# # what's the area of the mesh\n# print('mesh.area=', mesh.area)\n#\n# # compute the area of each face\n# mesh.area_faces\n# # access mesh faces angles\n# mesh.face_angles\n# # access mesh volume\n# mesh.volume\n#\n# # get the face_normal of the mesh\n# mesh.face_normals\n#\n# # get the vertex_normals of the mesh\n# mesh.vertex_normals\n#\n# # access mesh vertex connectivity\n# mesh.vertex_neighbors\n#\n# # compute mesh convex hull\n# c_h_mesh = mesh.convex_hull\n#\n# # kdtree of the vertices\n# # see example_kdtree.py\n#\n# # mesh refinement by subdivision of face\n# mesh.subdivide()\n#\n# # extract 100 mesh vertices picked at random\n# mesh.sample(100)\n#\n# # voxelize the mesh\n# mesh.voxelized(2)\n#\n# # boundary of the mesh or list of faces\n# # mesh.outline()\n#\n# # the convex hull is another Trimesh object that is available as a property\n# # lets compare the volume of our mesh with the volume of its convex hull\n# np.divide(mesh.volume, mesh.convex_hull.volume)\n#\n# # since the mesh is watertight, it means there is a\n# # volumetric center of mass which we can set as the origin for our mesh\n# mesh.vertices -= mesh.center_mass\n#\n# # what's the moment of inertia for the mesh?\n# mesh.moment_inertia\n#\n# # if there are multiple bodies in the mesh we can split the mesh by\n# # connected components of face adjacency\n# # since this example mesh is a single watertight body we get a list of one\n# # mesh\n# # mesh.split()\n#\n# # find groups of coplanar adjacent faces\n# # facets, facets_area = mesh.facets(return_area=True)\n#\n# # transform method can be passed a (4,4) matrix and will cleanly apply the\n# # transform\n# mesh.apply_transform(trimesh.transformations.random_rotation_matrix())\n#\n# # axis aligned bounding box is available\n# mesh.bounding_box.extents\n#\n# # a minimum volume oriented bounding box also available\n# # primitives are subclasses of Trimesh objects which automatically generate\n# # faces and vertices from data stored in the 'primitive' attribute\n# mesh.bounding_box_oriented.primitive.extents\n# mesh.bounding_box_oriented.primitive.transform\n#\n# # bounding spheres and bounding cylinders of meshes are also\n# # available, and will be the minimum volume version of each\n# # except in certain degenerate cases, where they will be no worse\n# # than a least squares fit version of the primitive.\n# print(mesh.bounding_box_oriented.volume,\n#       mesh.bounding_cylinder.volume,\n#       mesh.bounding_sphere.volume)"
      ], 
      "outputs": [], 
      "metadata": {
        "collapsed": false
      }
    }
  ], 
  "metadata": {
    "kernelspec": {
      "display_name": "Python 2", 
      "name": "python2", 
      "language": "python"
    }, 
    "language_info": {
      "mimetype": "text/x-python", 
      "nbconvert_exporter": "python", 
      "name": "python", 
      "file_extension": ".py", 
      "version": "2.7.12", 
      "pygments_lexer": "ipython2", 
      "codemirror_mode": {
        "version": 2, 
        "name": "ipython"
      }
    }
  }
}